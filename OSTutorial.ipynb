{
 "cells": [
  {
   "cell_type": "code",
   "execution_count": 1,
   "source": [
    "import os"
   ],
   "outputs": [],
   "metadata": {}
  },
  {
   "cell_type": "code",
   "execution_count": 3,
   "source": [
    "print(dir(os))"
   ],
   "outputs": [
    {
     "output_type": "stream",
     "name": "stdout",
     "text": [
      "['CLD_CONTINUED', 'CLD_DUMPED', 'CLD_EXITED', 'CLD_TRAPPED', 'DirEntry', 'EX_CANTCREAT', 'EX_CONFIG', 'EX_DATAERR', 'EX_IOERR', 'EX_NOHOST', 'EX_NOINPUT', 'EX_NOPERM', 'EX_NOUSER', 'EX_OK', 'EX_OSERR', 'EX_OSFILE', 'EX_PROTOCOL', 'EX_SOFTWARE', 'EX_TEMPFAIL', 'EX_UNAVAILABLE', 'EX_USAGE', 'F_LOCK', 'F_OK', 'F_TEST', 'F_TLOCK', 'F_ULOCK', 'MutableMapping', 'NGROUPS_MAX', 'O_ACCMODE', 'O_APPEND', 'O_ASYNC', 'O_CLOEXEC', 'O_CREAT', 'O_DIRECTORY', 'O_DSYNC', 'O_EXCL', 'O_EXLOCK', 'O_NDELAY', 'O_NOCTTY', 'O_NOFOLLOW', 'O_NONBLOCK', 'O_RDONLY', 'O_RDWR', 'O_SHLOCK', 'O_SYNC', 'O_TRUNC', 'O_WRONLY', 'POSIX_SPAWN_CLOSE', 'POSIX_SPAWN_DUP2', 'POSIX_SPAWN_OPEN', 'PRIO_PGRP', 'PRIO_PROCESS', 'PRIO_USER', 'P_ALL', 'P_NOWAIT', 'P_NOWAITO', 'P_PGID', 'P_PID', 'P_WAIT', 'PathLike', 'RTLD_GLOBAL', 'RTLD_LAZY', 'RTLD_LOCAL', 'RTLD_NODELETE', 'RTLD_NOLOAD', 'RTLD_NOW', 'R_OK', 'SCHED_FIFO', 'SCHED_OTHER', 'SCHED_RR', 'SEEK_CUR', 'SEEK_DATA', 'SEEK_END', 'SEEK_HOLE', 'SEEK_SET', 'ST_NOSUID', 'ST_RDONLY', 'TMP_MAX', 'WCONTINUED', 'WCOREDUMP', 'WEXITED', 'WEXITSTATUS', 'WIFCONTINUED', 'WIFEXITED', 'WIFSIGNALED', 'WIFSTOPPED', 'WNOHANG', 'WNOWAIT', 'WSTOPPED', 'WSTOPSIG', 'WTERMSIG', 'WUNTRACED', 'W_OK', 'X_OK', '_Environ', '__all__', '__builtins__', '__cached__', '__doc__', '__file__', '__loader__', '__name__', '__package__', '__spec__', '_check_methods', '_execvpe', '_exists', '_exit', '_fspath', '_fwalk', '_get_exports_list', '_putenv', '_spawnvef', '_unsetenv', '_wrap_close', 'abc', 'abort', 'access', 'altsep', 'chdir', 'chflags', 'chmod', 'chown', 'chroot', 'close', 'closerange', 'confstr', 'confstr_names', 'cpu_count', 'ctermid', 'curdir', 'defpath', 'device_encoding', 'devnull', 'dup', 'dup2', 'environ', 'environb', 'error', 'execl', 'execle', 'execlp', 'execlpe', 'execv', 'execve', 'execvp', 'execvpe', 'extsep', 'fchdir', 'fchmod', 'fchown', 'fdopen', 'fork', 'forkpty', 'fpathconf', 'fsdecode', 'fsencode', 'fspath', 'fstat', 'fstatvfs', 'fsync', 'ftruncate', 'fwalk', 'get_blocking', 'get_exec_path', 'get_inheritable', 'get_terminal_size', 'getcwd', 'getcwdb', 'getegid', 'getenv', 'getenvb', 'geteuid', 'getgid', 'getgrouplist', 'getgroups', 'getloadavg', 'getlogin', 'getpgid', 'getpgrp', 'getpid', 'getppid', 'getpriority', 'getsid', 'getuid', 'initgroups', 'isatty', 'kill', 'killpg', 'lchflags', 'lchmod', 'lchown', 'linesep', 'link', 'listdir', 'lockf', 'lseek', 'lstat', 'major', 'makedev', 'makedirs', 'minor', 'mkdir', 'mkfifo', 'mknod', 'name', 'nice', 'open', 'openpty', 'pardir', 'path', 'pathconf', 'pathconf_names', 'pathsep', 'pipe', 'popen', 'posix_spawn', 'posix_spawnp', 'pread', 'preadv', 'putenv', 'pwrite', 'pwritev', 'read', 'readlink', 'readv', 'register_at_fork', 'remove', 'removedirs', 'rename', 'renames', 'replace', 'rmdir', 'scandir', 'sched_get_priority_max', 'sched_get_priority_min', 'sched_yield', 'sendfile', 'sep', 'set_blocking', 'set_inheritable', 'setegid', 'seteuid', 'setgid', 'setgroups', 'setpgid', 'setpgrp', 'setpriority', 'setregid', 'setreuid', 'setsid', 'setuid', 'spawnl', 'spawnle', 'spawnlp', 'spawnlpe', 'spawnv', 'spawnve', 'spawnvp', 'spawnvpe', 'st', 'stat', 'stat_result', 'statvfs', 'statvfs_result', 'strerror', 'supports_bytes_environ', 'supports_dir_fd', 'supports_effective_ids', 'supports_fd', 'supports_follow_symlinks', 'symlink', 'sync', 'sys', 'sysconf', 'sysconf_names', 'system', 'tcgetpgrp', 'tcsetpgrp', 'terminal_size', 'times', 'times_result', 'truncate', 'ttyname', 'umask', 'uname', 'uname_result', 'unlink', 'unsetenv', 'urandom', 'utime', 'wait', 'wait3', 'wait4', 'waitpid', 'walk', 'write', 'writev']\n"
     ]
    }
   ],
   "metadata": {}
  },
  {
   "cell_type": "code",
   "execution_count": 5,
   "source": [
    "print(os.getcwd())"
   ],
   "outputs": [
    {
     "output_type": "stream",
     "name": "stdout",
     "text": [
      "/Users/TheKing/Dropbox/Academics/University of Utah/Clinical Informatics/Fall 2021/BMI 6017-090 Computer Science Fundamentals/myProject/exerPythOsTutorial\n"
     ]
    }
   ],
   "metadata": {}
  },
  {
   "cell_type": "code",
   "execution_count": 7,
   "source": [
    "print(os.listdir())"
   ],
   "outputs": [
    {
     "output_type": "stream",
     "name": "stdout",
     "text": [
      "['README.md', '.git', 'OSTutorial.ipynb']\n"
     ]
    }
   ],
   "metadata": {}
  },
  {
   "cell_type": "code",
   "execution_count": 9,
   "source": [
    "#os.mkdir('OS-Demo-2/Sub-Dir-1')\n",
    "os.makedirs('OS-Demo-2/Syb-Dir-1')"
   ],
   "outputs": [
    {
     "output_type": "error",
     "ename": "FileExistsError",
     "evalue": "[Errno 17] File exists: 'OS-Demo-2/Syb-Dir-1'",
     "traceback": [
      "\u001b[0;31m---------------------------------------------------------------------------\u001b[0m",
      "\u001b[0;31mFileExistsError\u001b[0m                           Traceback (most recent call last)",
      "\u001b[0;32m/var/folders/vc/2gp9vy254wn2rpyy9m0z5pl40000gn/T/ipykernel_21984/3690847833.py\u001b[0m in \u001b[0;36m<module>\u001b[0;34m\u001b[0m\n\u001b[1;32m      1\u001b[0m \u001b[0;31m#os.mkdir('OS-Demo-2/Sub-Dir-1')\u001b[0m\u001b[0;34m\u001b[0m\u001b[0;34m\u001b[0m\u001b[0;34m\u001b[0m\u001b[0m\n\u001b[0;32m----> 2\u001b[0;31m \u001b[0mos\u001b[0m\u001b[0;34m.\u001b[0m\u001b[0mmakedirs\u001b[0m\u001b[0;34m(\u001b[0m\u001b[0;34m'OS-Demo-2/Syb-Dir-1'\u001b[0m\u001b[0;34m)\u001b[0m\u001b[0;34m\u001b[0m\u001b[0;34m\u001b[0m\u001b[0m\n\u001b[0m",
      "\u001b[0;32m~/opt/anaconda3/envs/Basics Package/lib/python3.8/os.py\u001b[0m in \u001b[0;36mmakedirs\u001b[0;34m(name, mode, exist_ok)\u001b[0m\n\u001b[1;32m    221\u001b[0m             \u001b[0;32mreturn\u001b[0m\u001b[0;34m\u001b[0m\u001b[0;34m\u001b[0m\u001b[0m\n\u001b[1;32m    222\u001b[0m     \u001b[0;32mtry\u001b[0m\u001b[0;34m:\u001b[0m\u001b[0;34m\u001b[0m\u001b[0;34m\u001b[0m\u001b[0m\n\u001b[0;32m--> 223\u001b[0;31m         \u001b[0mmkdir\u001b[0m\u001b[0;34m(\u001b[0m\u001b[0mname\u001b[0m\u001b[0;34m,\u001b[0m \u001b[0mmode\u001b[0m\u001b[0;34m)\u001b[0m\u001b[0;34m\u001b[0m\u001b[0;34m\u001b[0m\u001b[0m\n\u001b[0m\u001b[1;32m    224\u001b[0m     \u001b[0;32mexcept\u001b[0m \u001b[0mOSError\u001b[0m\u001b[0;34m:\u001b[0m\u001b[0;34m\u001b[0m\u001b[0;34m\u001b[0m\u001b[0m\n\u001b[1;32m    225\u001b[0m         \u001b[0;31m# Cannot rely on checking for EEXIST, since the operating system\u001b[0m\u001b[0;34m\u001b[0m\u001b[0;34m\u001b[0m\u001b[0;34m\u001b[0m\u001b[0m\n",
      "\u001b[0;31mFileExistsError\u001b[0m: [Errno 17] File exists: 'OS-Demo-2/Syb-Dir-1'"
     ]
    }
   ],
   "metadata": {}
  },
  {
   "cell_type": "code",
   "execution_count": 16,
   "source": [
    "\n",
    "os.rmdir('OS-Demo-2')"
   ],
   "outputs": [
    {
     "output_type": "error",
     "ename": "FileNotFoundError",
     "evalue": "[Errno 2] No such file or directory: 'OS-Demo-2'",
     "traceback": [
      "\u001b[0;31m---------------------------------------------------------------------------\u001b[0m",
      "\u001b[0;31mFileNotFoundError\u001b[0m                         Traceback (most recent call last)",
      "\u001b[0;32m/var/folders/vc/2gp9vy254wn2rpyy9m0z5pl40000gn/T/ipykernel_21984/1090094096.py\u001b[0m in \u001b[0;36m<module>\u001b[0;34m\u001b[0m\n\u001b[0;32m----> 1\u001b[0;31m \u001b[0mos\u001b[0m\u001b[0;34m.\u001b[0m\u001b[0mrmdir\u001b[0m\u001b[0;34m(\u001b[0m\u001b[0;34m'OS-Demo-2'\u001b[0m\u001b[0;34m)\u001b[0m\u001b[0;34m\u001b[0m\u001b[0;34m\u001b[0m\u001b[0m\n\u001b[0m",
      "\u001b[0;31mFileNotFoundError\u001b[0m: [Errno 2] No such file or directory: 'OS-Demo-2'"
     ]
    }
   ],
   "metadata": {}
  },
  {
   "cell_type": "code",
   "execution_count": 18,
   "source": [
    "os.rename('test.txt','demo.txt')"
   ],
   "outputs": [
    {
     "output_type": "error",
     "ename": "FileNotFoundError",
     "evalue": "[Errno 2] No such file or directory: 'test.txt' -> 'demo.txt'",
     "traceback": [
      "\u001b[0;31m---------------------------------------------------------------------------\u001b[0m",
      "\u001b[0;31mFileNotFoundError\u001b[0m                         Traceback (most recent call last)",
      "\u001b[0;32m/var/folders/vc/2gp9vy254wn2rpyy9m0z5pl40000gn/T/ipykernel_21984/2476322577.py\u001b[0m in \u001b[0;36m<module>\u001b[0;34m\u001b[0m\n\u001b[0;32m----> 1\u001b[0;31m \u001b[0mos\u001b[0m\u001b[0;34m.\u001b[0m\u001b[0mrename\u001b[0m\u001b[0;34m(\u001b[0m\u001b[0;34m'test.txt'\u001b[0m\u001b[0;34m,\u001b[0m\u001b[0;34m'demo.txt'\u001b[0m\u001b[0;34m)\u001b[0m\u001b[0;34m\u001b[0m\u001b[0;34m\u001b[0m\u001b[0m\n\u001b[0m",
      "\u001b[0;31mFileNotFoundError\u001b[0m: [Errno 2] No such file or directory: 'test.txt' -> 'demo.txt'"
     ]
    }
   ],
   "metadata": {}
  },
  {
   "cell_type": "code",
   "execution_count": 20,
   "source": [
    "print(os.stat('demo.txt'))"
   ],
   "outputs": [
    {
     "output_type": "stream",
     "name": "stdout",
     "text": [
      "os.stat_result(st_mode=33188, st_ino=117969138, st_dev=16777232, st_nlink=1, st_uid=501, st_gid=20, st_size=0, st_atime=1631648216, st_mtime=1631648216, st_ctime=1631648237)\n"
     ]
    }
   ],
   "metadata": {}
  },
  {
   "cell_type": "code",
   "execution_count": 22,
   "source": [
    "from datetime import datetime\n",
    "mod_time = os.stat('demo.txt').st_mtime\n",
    "print(datetime.fromtimestamp(mod_time))"
   ],
   "outputs": [
    {
     "output_type": "stream",
     "name": "stdout",
     "text": [
      "2021-09-14 13:36:56.644154\n"
     ]
    }
   ],
   "metadata": {}
  },
  {
   "cell_type": "code",
   "execution_count": 25,
   "source": [
    "for dirpath,dirnames,filenames in os.walk('/Users/TheKing/Dropbox/Academics/University of Utah/Clinical Informatics/Fall 2021/BMI 6017-090 Computer Science Fundamentals/myProject/exerPythOsTutorial'):\n",
    "    print('Current Path:',dirpath)\n",
    "    print('Directories:',dirnames)\n",
    "    print('Files:',filenames)\n",
    "    print()"
   ],
   "outputs": [
    {
     "output_type": "stream",
     "name": "stdout",
     "text": [
      "Current Path: /Users/TheKing/Dropbox/Academics/University of Utah/Clinical Informatics/Fall 2021/BMI 6017-090 Computer Science Fundamentals/myProject/exerPythOsTutorial\n",
      "Directories: ['.git']\n",
      "Files: ['demo.txt', 'README.md', 'OSTutorial.ipynb']\n",
      "\n",
      "Current Path: /Users/TheKing/Dropbox/Academics/University of Utah/Clinical Informatics/Fall 2021/BMI 6017-090 Computer Science Fundamentals/myProject/exerPythOsTutorial/.git\n",
      "Directories: ['objects', 'info', 'logs', 'hooks', 'refs']\n",
      "Files: ['config', 'HEAD', 'description', 'index', 'packed-refs']\n",
      "\n",
      "Current Path: /Users/TheKing/Dropbox/Academics/University of Utah/Clinical Informatics/Fall 2021/BMI 6017-090 Computer Science Fundamentals/myProject/exerPythOsTutorial/.git/objects\n",
      "Directories: ['pack', 'info']\n",
      "Files: []\n",
      "\n",
      "Current Path: /Users/TheKing/Dropbox/Academics/University of Utah/Clinical Informatics/Fall 2021/BMI 6017-090 Computer Science Fundamentals/myProject/exerPythOsTutorial/.git/objects/pack\n",
      "Directories: []\n",
      "Files: ['pack-3dcd781a7c96ffa7eb4340c2085d98e627b1fcc6.pack', 'pack-3dcd781a7c96ffa7eb4340c2085d98e627b1fcc6.idx']\n",
      "\n",
      "Current Path: /Users/TheKing/Dropbox/Academics/University of Utah/Clinical Informatics/Fall 2021/BMI 6017-090 Computer Science Fundamentals/myProject/exerPythOsTutorial/.git/objects/info\n",
      "Directories: []\n",
      "Files: []\n",
      "\n",
      "Current Path: /Users/TheKing/Dropbox/Academics/University of Utah/Clinical Informatics/Fall 2021/BMI 6017-090 Computer Science Fundamentals/myProject/exerPythOsTutorial/.git/info\n",
      "Directories: []\n",
      "Files: ['exclude']\n",
      "\n",
      "Current Path: /Users/TheKing/Dropbox/Academics/University of Utah/Clinical Informatics/Fall 2021/BMI 6017-090 Computer Science Fundamentals/myProject/exerPythOsTutorial/.git/logs\n",
      "Directories: ['refs']\n",
      "Files: ['HEAD']\n",
      "\n",
      "Current Path: /Users/TheKing/Dropbox/Academics/University of Utah/Clinical Informatics/Fall 2021/BMI 6017-090 Computer Science Fundamentals/myProject/exerPythOsTutorial/.git/logs/refs\n",
      "Directories: ['heads', 'remotes']\n",
      "Files: []\n",
      "\n",
      "Current Path: /Users/TheKing/Dropbox/Academics/University of Utah/Clinical Informatics/Fall 2021/BMI 6017-090 Computer Science Fundamentals/myProject/exerPythOsTutorial/.git/logs/refs/heads\n",
      "Directories: []\n",
      "Files: ['master']\n",
      "\n",
      "Current Path: /Users/TheKing/Dropbox/Academics/University of Utah/Clinical Informatics/Fall 2021/BMI 6017-090 Computer Science Fundamentals/myProject/exerPythOsTutorial/.git/logs/refs/remotes\n",
      "Directories: ['origin']\n",
      "Files: []\n",
      "\n",
      "Current Path: /Users/TheKing/Dropbox/Academics/University of Utah/Clinical Informatics/Fall 2021/BMI 6017-090 Computer Science Fundamentals/myProject/exerPythOsTutorial/.git/logs/refs/remotes/origin\n",
      "Directories: []\n",
      "Files: ['HEAD']\n",
      "\n",
      "Current Path: /Users/TheKing/Dropbox/Academics/University of Utah/Clinical Informatics/Fall 2021/BMI 6017-090 Computer Science Fundamentals/myProject/exerPythOsTutorial/.git/hooks\n",
      "Directories: []\n",
      "Files: ['commit-msg.sample', 'pre-rebase.sample', 'pre-commit.sample', 'applypatch-msg.sample', 'fsmonitor-watchman.sample', 'pre-receive.sample', 'prepare-commit-msg.sample', 'post-update.sample', 'pre-merge-commit.sample', 'pre-applypatch.sample', 'pre-push.sample', 'update.sample', 'push-to-checkout.sample']\n",
      "\n",
      "Current Path: /Users/TheKing/Dropbox/Academics/University of Utah/Clinical Informatics/Fall 2021/BMI 6017-090 Computer Science Fundamentals/myProject/exerPythOsTutorial/.git/refs\n",
      "Directories: ['heads', 'tags', 'remotes']\n",
      "Files: []\n",
      "\n",
      "Current Path: /Users/TheKing/Dropbox/Academics/University of Utah/Clinical Informatics/Fall 2021/BMI 6017-090 Computer Science Fundamentals/myProject/exerPythOsTutorial/.git/refs/heads\n",
      "Directories: []\n",
      "Files: ['master']\n",
      "\n",
      "Current Path: /Users/TheKing/Dropbox/Academics/University of Utah/Clinical Informatics/Fall 2021/BMI 6017-090 Computer Science Fundamentals/myProject/exerPythOsTutorial/.git/refs/tags\n",
      "Directories: []\n",
      "Files: []\n",
      "\n",
      "Current Path: /Users/TheKing/Dropbox/Academics/University of Utah/Clinical Informatics/Fall 2021/BMI 6017-090 Computer Science Fundamentals/myProject/exerPythOsTutorial/.git/refs/remotes\n",
      "Directories: ['origin']\n",
      "Files: []\n",
      "\n",
      "Current Path: /Users/TheKing/Dropbox/Academics/University of Utah/Clinical Informatics/Fall 2021/BMI 6017-090 Computer Science Fundamentals/myProject/exerPythOsTutorial/.git/refs/remotes/origin\n",
      "Directories: []\n",
      "Files: ['HEAD']\n",
      "\n"
     ]
    }
   ],
   "metadata": {}
  },
  {
   "cell_type": "code",
   "execution_count": 28,
   "source": [
    "print(os.environ.get('HOME'))"
   ],
   "outputs": [
    {
     "output_type": "stream",
     "name": "stdout",
     "text": [
      "/Users/TheKing\n"
     ]
    }
   ],
   "metadata": {}
  },
  {
   "cell_type": "code",
   "execution_count": 30,
   "source": [
    "file_path = os.environ.get('HOME') + 'test.txt'\n",
    "print(file_path)"
   ],
   "outputs": [
    {
     "output_type": "stream",
     "name": "stdout",
     "text": [
      "/Users/TheKingtest.txt\n"
     ]
    }
   ],
   "metadata": {}
  },
  {
   "cell_type": "code",
   "execution_count": 33,
   "source": [
    "file_path = os.path.join(os.environ.get('HOME'), 'test.txt')\n",
    "print(file_path)"
   ],
   "outputs": [
    {
     "output_type": "stream",
     "name": "stdout",
     "text": [
      "/Users/TheKing/test.txt\n"
     ]
    }
   ],
   "metadata": {}
  },
  {
   "cell_type": "code",
   "execution_count": 35,
   "source": [
    "print(os.path.basename('tmp/test.txt'))"
   ],
   "outputs": [
    {
     "output_type": "stream",
     "name": "stdout",
     "text": [
      "test.txt\n"
     ]
    }
   ],
   "metadata": {}
  },
  {
   "cell_type": "code",
   "execution_count": 37,
   "source": [
    "print(os.path.dirname('tmp/test.txt'))"
   ],
   "outputs": [
    {
     "output_type": "stream",
     "name": "stdout",
     "text": [
      "tmp\n"
     ]
    }
   ],
   "metadata": {}
  },
  {
   "cell_type": "code",
   "execution_count": 39,
   "source": [
    "print(os.path.split('tmp/test.xt'))"
   ],
   "outputs": [
    {
     "output_type": "stream",
     "name": "stdout",
     "text": [
      "('tmp', 'test.xt')\n"
     ]
    }
   ],
   "metadata": {}
  },
  {
   "cell_type": "code",
   "execution_count": 41,
   "source": [
    "print(os.path.exists('/tmp/test.txt'))"
   ],
   "outputs": [
    {
     "output_type": "stream",
     "name": "stdout",
     "text": [
      "False\n"
     ]
    }
   ],
   "metadata": {}
  },
  {
   "cell_type": "code",
   "execution_count": 43,
   "source": [
    "print(os.path.isdir('/tmp/fgdfgdf'))"
   ],
   "outputs": [
    {
     "output_type": "stream",
     "name": "stdout",
     "text": [
      "False\n"
     ]
    }
   ],
   "metadata": {}
  },
  {
   "cell_type": "code",
   "execution_count": 45,
   "source": [
    "print(os.path.splitext('/tmp/test.txt'))"
   ],
   "outputs": [
    {
     "output_type": "stream",
     "name": "stdout",
     "text": [
      "('/tmp/test', '.txt')\n"
     ]
    }
   ],
   "metadata": {}
  },
  {
   "cell_type": "code",
   "execution_count": 47,
   "source": [
    "print(dir(os.path))"
   ],
   "outputs": [
    {
     "output_type": "stream",
     "name": "stdout",
     "text": [
      "['__all__', '__builtins__', '__cached__', '__doc__', '__file__', '__loader__', '__name__', '__package__', '__spec__', '_get_sep', '_joinrealpath', '_varprog', '_varprogb', 'abspath', 'altsep', 'basename', 'commonpath', 'commonprefix', 'curdir', 'defpath', 'devnull', 'dirname', 'exists', 'expanduser', 'expandvars', 'extsep', 'genericpath', 'getatime', 'getctime', 'getmtime', 'getsize', 'isabs', 'isdir', 'isfile', 'islink', 'ismount', 'join', 'lexists', 'normcase', 'normpath', 'os', 'pardir', 'pathsep', 'realpath', 'relpath', 'samefile', 'sameopenfile', 'samestat', 'sep', 'split', 'splitdrive', 'splitext', 'stat', 'supports_unicode_filenames', 'sys']\n"
     ]
    }
   ],
   "metadata": {}
  },
  {
   "cell_type": "code",
   "execution_count": null,
   "source": [
    "# Official Documentation for Python https://docs.python.org/3/\n",
    "# Official Python Tutorial https://docs.python.org/3/tutorial/index.html"
   ],
   "outputs": [],
   "metadata": {}
  }
 ],
 "metadata": {
  "orig_nbformat": 4,
  "language_info": {
   "name": "python",
   "version": "3.8.10",
   "mimetype": "text/x-python",
   "codemirror_mode": {
    "name": "ipython",
    "version": 3
   },
   "pygments_lexer": "ipython3",
   "nbconvert_exporter": "python",
   "file_extension": ".py"
  },
  "kernelspec": {
   "name": "python3",
   "display_name": "Python 3.8.10 64-bit ('Basics Package': conda)"
  },
  "interpreter": {
   "hash": "068578462703f97f56ebfd4586d755cffa1b85405eb52d4e660945a25dc02b85"
  }
 },
 "nbformat": 4,
 "nbformat_minor": 2
}